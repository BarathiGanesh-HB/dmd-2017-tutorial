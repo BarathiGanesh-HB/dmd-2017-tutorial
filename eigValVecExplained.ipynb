{
 "cells": [
  {
   "cell_type": "markdown",
   "metadata": {},
   "source": [
    "# Eigen Vectors and Eigen Values"
   ]
  },
  {
   "cell_type": "markdown",
   "metadata": {},
   "source": [
    "# understanding eigen value and vector"
   ]
  },
  {
   "cell_type": "code",
   "execution_count": 3,
   "metadata": {
    "collapsed": true
   },
   "outputs": [],
   "source": [
    "# understanding eigen value and vector\n",
    "# Av = l*v\n",
    "# A -> matrix\n",
    "# v -> eignen vector\n",
    "# l -> lambda"
   ]
  },
  {
   "cell_type": "code",
   "execution_count": 34,
   "metadata": {},
   "outputs": [
    {
     "name": "stdout",
     "output_type": "stream",
     "text": [
      "[[ 1.   0.5]\n",
      " [ 0.5  1. ]]\n"
     ]
    }
   ],
   "source": [
    "import numpy as np\n",
    "A = np.matrix([[1.0, 0.5], [0.5, 1.0]])\n",
    "print A"
   ]
  },
  {
   "cell_type": "code",
   "execution_count": 35,
   "metadata": {
    "collapsed": true
   },
   "outputs": [],
   "source": [
    "# visualizing the A in vector space"
   ]
  },
  {
   "cell_type": "code",
   "execution_count": 36,
   "metadata": {},
   "outputs": [
    {
     "data": {
      "image/png": "[encoded data removed]",
      "text/plain": [
       "<matplotlib.figure.Figure at 0x1cc21f60>"
      ]
     },
     "metadata": {},
     "output_type": "display_data"
    }
   ],
   "source": [
    "import matplotlib.pyplot as plt\n",
    "x_values = A[:,0].tolist() \n",
    "y_values = A[:,1].tolist() \n",
    "fig_size = plt.rcParams[\"figure.figsize\"]\n",
    "fig_size[0] = 5\n",
    "fig_size[1] = 5\n",
    "#ax = plt.subplot(111)\n",
    "#line, = plt.plot(modes_no, Sig2, lw=2)\n",
    "plt.axis([0, 5, 0, 5])\n",
    "plt.scatter(x_values, y_values)\n",
    "ax = plt.axes()\n",
    "ax.arrow(0, 0, 0.5, 1, head_width=0.05, head_length=0.1, fc='k', ec='r')\n",
    "ax.arrow(0, 0, 1, 0.5, head_width=0.05, head_length=0.1, fc='k', ec='b')\n",
    "plt.xlabel('x')\n",
    "plt.ylabel('y')\n",
    "plt.show()"
   ]
  },
  {
   "cell_type": "code",
   "execution_count": 37,
   "metadata": {
    "collapsed": true
   },
   "outputs": [],
   "source": [
    "# take a vector v and visualize"
   ]
  },
  {
   "cell_type": "code",
   "execution_count": 38,
   "metadata": {},
   "outputs": [
    {
     "name": "stdout",
     "output_type": "stream",
     "text": [
      "[ 2.  3.]\n"
     ]
    }
   ],
   "source": [
    "v = np.array([2.0, 3.0])\n",
    "print v"
   ]
  },
  {
   "cell_type": "code",
   "execution_count": 39,
   "metadata": {},
   "outputs": [
    {
     "data": {
      "image/png": "[encoded data removed]",
      "text/plain": [
       "<matplotlib.figure.Figure at 0x19ae3ac8>"
      ]
     },
     "metadata": {},
     "output_type": "display_data"
    }
   ],
   "source": [
    "import matplotlib.pyplot as plt\n",
    "x_values = A[:,0].tolist() \n",
    "y_values = A[:,1].tolist() \n",
    "fig_size = plt.rcParams[\"figure.figsize\"]\n",
    "fig_size[0] = 5\n",
    "fig_size[1] = 5\n",
    "plt.axis([0, 5, 0, 5])\n",
    "plt.scatter(x_values, y_values)\n",
    "plt.scatter(v[0], v[1])\n",
    "ax = plt.axes()\n",
    "ax.arrow(0, 0, 0.5, 1, head_width=0.05, head_length=0.1, fc='k', ec='r')\n",
    "ax.annotate('(0.5,1) A2', xy=(0.5, 1), xytext=(1, 1.5), arrowprops=dict(facecolor='black', shrink=0.05),)\n",
    "ax.arrow(0, 0, 1, 0.5, head_width=0.05, head_length=0.1, fc='k', ec='b')\n",
    "ax.annotate('(1,0.5) A1', xy=(1,0.5), xytext=(1.5, 1), arrowprops=dict(facecolor='black', shrink=0.05),)\n",
    "ax.annotate('(2,3) v', xy=(2,3), xytext=(2.5, 3), arrowprops=dict(facecolor='black', shrink=0.05),)\n",
    "plt.xlabel('x')\n",
    "plt.ylabel('y')\n",
    "plt.show()"
   ]
  },
  {
   "cell_type": "code",
   "execution_count": 40,
   "metadata": {
    "collapsed": true
   },
   "outputs": [],
   "source": [
    "# find Av"
   ]
  },
  {
   "cell_type": "code",
   "execution_count": 41,
   "metadata": {},
   "outputs": [
    {
     "name": "stdout",
     "output_type": "stream",
     "text": [
      "[3.5, 4.0]\n"
     ]
    }
   ],
   "source": [
    "Av = np.matmul(A, v)\n",
    "Av = Av.tolist()[0]\n",
    "print Av"
   ]
  },
  {
   "cell_type": "code",
   "execution_count": 42,
   "metadata": {
    "collapsed": true
   },
   "outputs": [],
   "source": [
    "# visualizing Av"
   ]
  },
  {
   "cell_type": "code",
   "execution_count": 43,
   "metadata": {},
   "outputs": [
    {
     "data": {
      "image/png": "[encoded data removed]",
      "text/plain": [
       "<matplotlib.figure.Figure at 0x19b443c8>"
      ]
     },
     "metadata": {},
     "output_type": "display_data"
    }
   ],
   "source": [
    "import matplotlib.pyplot as plt\n",
    "x_values = A[:,0].tolist() \n",
    "y_values = A[:,1].tolist() \n",
    "fig_size = plt.rcParams[\"figure.figsize\"]\n",
    "fig_size[0] = 5\n",
    "fig_size[1] = 5\n",
    "plt.axis([0, 5, 0, 5])\n",
    "plt.scatter(x_values, y_values)\n",
    "plt.scatter(v[0], v[1])\n",
    "plt.scatter(Av[0], Av[1])\n",
    "ax = plt.axes()\n",
    "ax.arrow(0, 0, 0.5, 1, head_width=0.05, head_length=0.1, fc='k', ec='r')\n",
    "ax.annotate('(0.5,1) A2', xy=(0.5, 1), xytext=(1, 1.5), arrowprops=dict(facecolor='black', shrink=0.05),)\n",
    "ax.arrow(0, 0, 1, 0.5, head_width=0.05, head_length=0.1, fc='k', ec='b')\n",
    "ax.annotate('(1,0.5) A1', xy=(1,0.5), xytext=(1.5, 1), arrowprops=dict(facecolor='black', shrink=0.05),)\n",
    "ax.annotate('(2,3) v', xy=(2,3), xytext=(2.5, 3), arrowprops=dict(facecolor='black', shrink=0.05),)\n",
    "ax.annotate('(3.5,4) Av', xy=(3.5,4), xytext=(4, 4), arrowprops=dict(facecolor='black', shrink=0.05),)\n",
    "plt.xlabel('x')\n",
    "plt.ylabel('y')\n",
    "plt.show()"
   ]
  },
  {
   "cell_type": "code",
   "execution_count": 15,
   "metadata": {
    "collapsed": true
   },
   "outputs": [],
   "source": [
    "# finding corresponding eigen value of v"
   ]
  },
  {
   "cell_type": "code",
   "execution_count": 33,
   "metadata": {},
   "outputs": [
    {
     "data": {
      "image/png": "[encoded data removed]",
      "text/plain": [
       "<matplotlib.figure.Figure at 0x1cb386a0>"
      ]
     },
     "metadata": {},
     "output_type": "display_data"
    }
   ],
   "source": [
    "import matplotlib.pyplot as plt\n",
    "x_values = A[:,0].tolist() \n",
    "y_values = A[:,1].tolist() \n",
    "plt.close()\n",
    "plt.axis([0, 5, 0, 5])\n",
    "plt.scatter(x_values, y_values)\n",
    "plt.scatter(v[0], v[1])\n",
    "plt.scatter(Av[0], Av[1])\n",
    "ax = plt.axes()\n",
    "ax.arrow(2, 3, 1.5, 1, head_width=0.05, head_length=0.1, fc='k', ec='g')\n",
    "ax.arrow(0, 0, 0.5, 1, head_width=0.05, head_length=0.1, fc='k', ec='r')\n",
    "ax.annotate('(0.5,1) A2', xy=(0.5, 1), xytext=(1, 1.5), arrowprops=dict(facecolor='black', shrink=0.05),)\n",
    "ax.arrow(0, 0, 1, 0.5, head_width=0.05, head_length=0.1, fc='k', ec='b')\n",
    "ax.annotate('(1,0.5) A1', xy=(1,0.5), xytext=(1.5, 1), arrowprops=dict(facecolor='black', shrink=0.05),)\n",
    "ax.annotate('(2,3) v', xy=(2,3), xytext=(2.5, 3), arrowprops=dict(facecolor='black', shrink=0.05),)\n",
    "ax.annotate('(3.5,4) Av', xy=(3.5,4), xytext=(4, 4), arrowprops=dict(facecolor='black', shrink=0.05),)\n",
    "plt.xlabel('x')\n",
    "plt.ylabel('y')\n",
    "plt.show()"
   ]
  },
  {
   "cell_type": "markdown",
   "metadata": {},
   "source": [
    "# finding Eigen values and vectors of a matrix using numpy"
   ]
  },
  {
   "cell_type": "code",
   "execution_count": 17,
   "metadata": {
    "collapsed": true
   },
   "outputs": [],
   "source": [
    "import numpy as np\n",
    "np.random.seed(3) # setting random state as 3"
   ]
  },
  {
   "cell_type": "code",
   "execution_count": 25,
   "metadata": {
    "collapsed": true
   },
   "outputs": [],
   "source": [
    "# generating random matrix of size (3rows, 3 columns)"
   ]
  },
  {
   "cell_type": "code",
   "execution_count": 18,
   "metadata": {
    "collapsed": true
   },
   "outputs": [],
   "source": [
    "A = np.random.rand(3,3)"
   ]
  },
  {
   "cell_type": "code",
   "execution_count": 19,
   "metadata": {},
   "outputs": [
    {
     "name": "stdout",
     "output_type": "stream",
     "text": [
      "[[ 0.5507979   0.70814782  0.29090474]\n",
      " [ 0.51082761  0.89294695  0.89629309]\n",
      " [ 0.12558531  0.20724288  0.0514672 ]]\n"
     ]
    }
   ],
   "source": [
    "print A"
   ]
  },
  {
   "cell_type": "code",
   "execution_count": 26,
   "metadata": {
    "collapsed": true
   },
   "outputs": [],
   "source": [
    "# finding eigen values and eigen vectors"
   ]
  },
  {
   "cell_type": "code",
   "execution_count": 27,
   "metadata": {
    "collapsed": true
   },
   "outputs": [],
   "source": [
    "from numpy.linalg import eig"
   ]
  },
  {
   "cell_type": "code",
   "execution_count": 28,
   "metadata": {
    "collapsed": true
   },
   "outputs": [],
   "source": [
    "eigVals,eigVecs = eig(A) "
   ]
  },
  {
   "cell_type": "code",
   "execution_count": 29,
   "metadata": {},
   "outputs": [
    {
     "name": "stdout",
     "output_type": "stream",
     "text": [
      "[ 1.49925392  0.10674796 -0.11078982]\n"
     ]
    }
   ],
   "source": [
    "print eigVals"
   ]
  },
  {
   "cell_type": "code",
   "execution_count": 30,
   "metadata": {},
   "outputs": [
    {
     "name": "stdout",
     "output_type": "stream",
     "text": [
      "[[-0.62193562 -0.85177929  0.53765152]\n",
      " [-0.76579476  0.52323029 -0.69713226]\n",
      " [-0.16356794  0.02649719  0.47427572]]\n"
     ]
    }
   ],
   "source": [
    "print eigVecs"
   ]
  },
  {
   "cell_type": "code",
   "execution_count": 31,
   "metadata": {
    "collapsed": true
   },
   "outputs": [],
   "source": [
    "# getting eigen values with corresponding eigen vectors"
   ]
  },
  {
   "cell_type": "code",
   "execution_count": 24,
   "metadata": {},
   "outputs": [
    {
     "name": "stdout",
     "output_type": "stream",
     "text": [
      "eigen value, eigen vector 1.49925391838 [-0.62193562 -0.76579476 -0.16356794]\n",
      "eigen value, eigen vector 0.106747956882 [-0.85177929  0.52323029  0.02649719]\n",
      "eigen value, eigen vector -0.110789815041 [ 0.53765152 -0.69713226  0.47427572]\n"
     ]
    }
   ],
   "source": [
    "eigVec1 = eigVecs[:,0]\n",
    "eigVal1 = eigVals[0]\n",
    "eigVec2 = eigVecs[:,1]\n",
    "eigVal2 = eigVals[1]\n",
    "eigVec3 = eigVecs[:,2]\n",
    "eigVal3 = eigVals[2]\n",
    "print 'eigen value, eigen vector', str(eigVal1), str(eigVec1)\n",
    "print 'eigen value, eigen vector', str(eigVal2), str(eigVec2)\n",
    "print 'eigen value, eigen vector', str(eigVal3), str(eigVec3)"
   ]
  },
  {
   "cell_type": "code",
   "execution_count": 32,
   "metadata": {
    "collapsed": true
   },
   "outputs": [],
   "source": [
    "# checking the condition Av = lv\n",
    "# v -> eigVec1,eigVec2,eigVec3\n",
    "# l -> eigVal1, eigVal2, eigVal3"
   ]
  },
  {
   "cell_type": "code",
   "execution_count": 40,
   "metadata": {},
   "outputs": [
    {
     "data": {
      "text/plain": [
       "array([-0.93243942, -1.14812079, -0.24522987])"
      ]
     },
     "execution_count": 40,
     "metadata": {},
     "output_type": "execute_result"
    }
   ],
   "source": [
    "np.matmul(A, eigVec1)"
   ]
  },
  {
   "cell_type": "code",
   "execution_count": 41,
   "metadata": {},
   "outputs": [
    {
     "data": {
      "text/plain": [
       "array([-0.93243942, -1.14812079, -0.24522987])"
      ]
     },
     "execution_count": 41,
     "metadata": {},
     "output_type": "execute_result"
    }
   ],
   "source": [
    "(eigVal1 * eigVec1)"
   ]
  },
  {
   "cell_type": "code",
   "execution_count": 42,
   "metadata": {},
   "outputs": [
    {
     "data": {
      "text/plain": [
       "True"
      ]
     },
     "execution_count": 42,
     "metadata": {},
     "output_type": "execute_result"
    }
   ],
   "source": [
    "np.allclose(np.matmul(A, eigVec1), (eigVal1 * eigVec1))"
   ]
  },
  {
   "cell_type": "code",
   "execution_count": 43,
   "metadata": {},
   "outputs": [
    {
     "data": {
      "text/plain": [
       "True"
      ]
     },
     "execution_count": 43,
     "metadata": {},
     "output_type": "execute_result"
    }
   ],
   "source": [
    "np.allclose(np.matmul(A, eigVec2), (eigVal2 * eigVec2))"
   ]
  },
  {
   "cell_type": "code",
   "execution_count": 44,
   "metadata": {},
   "outputs": [
    {
     "data": {
      "text/plain": [
       "True"
      ]
     },
     "execution_count": 44,
     "metadata": {},
     "output_type": "execute_result"
    }
   ],
   "source": [
    "np.allclose(np.matmul(A, eigVec3), (eigVal3 * eigVec3))"
   ]
  },
  {
   "cell_type": "code",
   "execution_count": 48,
   "metadata": {},
   "outputs": [
    {
     "data": {
      "image/png": "[encoded data removed]",
      "text/plain": [
       "<matplotlib.figure.Figure at 0xa2ffcf8>"
      ]
     },
     "metadata": {},
     "output_type": "display_data"
    }
   ],
   "source": [
    "import matplotlib.pyplot as plt\n",
    "from mpl_toolkits.mplot3d import Axes3D\n",
    "fig = plt.figure()\n",
    "ax = fig.add_subplot(111, projection='3d')\n",
    "A = A.T\n",
    "X = A[:,0]\n",
    "Y = A[:,1]\n",
    "Z = A[:,2]\n",
    "\n",
    "# Plot a basic wireframe.\n",
    "ax.scatter(X, Y, Z)\n",
    "\n",
    "X1 = np.matmul(A, eigVec1)\n",
    "Y1 = np.matmul(A, eigVec2)\n",
    "Z1 = np.matmul(A, eigVec3)\n",
    "\n",
    "# Plot a basic wireframe.\n",
    "ax.scatter(X1, Y1, Z1)\n",
    "\n",
    "plt.show()"
   ]
  }
 ],
 "metadata": {
  "kernelspec": {
   "display_name": "Python 2",
   "language": "python",
   "name": "python2"
  },
  "language_info": {
   "codemirror_mode": {
    "name": "ipython",
    "version": 2
   },
   "file_extension": ".py",
   "mimetype": "text/x-python",
   "name": "python",
   "nbconvert_exporter": "python",
   "pygments_lexer": "ipython2",
   "version": "2.7.13"
  }
 },
 "nbformat": 4,
 "nbformat_minor": 2
}
