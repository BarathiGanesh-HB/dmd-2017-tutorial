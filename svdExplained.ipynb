{
 "cells": [
  {
   "cell_type": "markdown",
   "metadata": {},
   "source": [
    "# SVD - Singular Value Decomposition"
   ]
  },
  {
   "cell_type": "code",
   "execution_count": 1,
   "metadata": {
    "collapsed": true
   },
   "outputs": [],
   "source": [
    "import numpy as np\n",
    "np.random.seed(3) # setting random state as 3"
   ]
  },
  {
   "cell_type": "code",
   "execution_count": 2,
   "metadata": {
    "collapsed": true
   },
   "outputs": [],
   "source": [
    "# generating random matrix of size (3rows, 4 columns)"
   ]
  },
  {
   "cell_type": "code",
   "execution_count": 3,
   "metadata": {
    "collapsed": true
   },
   "outputs": [],
   "source": [
    "A = np.random.rand(3,4)"
   ]
  },
  {
   "cell_type": "code",
   "execution_count": 4,
   "metadata": {},
   "outputs": [
    {
     "name": "stdout",
     "output_type": "stream",
     "text": [
      "[[ 0.5507979   0.70814782  0.29090474  0.51082761]\n",
      " [ 0.89294695  0.89629309  0.12558531  0.20724288]\n",
      " [ 0.0514672   0.44080984  0.02987621  0.45683322]]\n"
     ]
    }
   ],
   "source": [
    "print A"
   ]
  },
  {
   "cell_type": "markdown",
   "metadata": {},
   "source": [
    "# computing U, V and Singular Values"
   ]
  },
  {
   "cell_type": "code",
   "execution_count": 5,
   "metadata": {
    "collapsed": true
   },
   "outputs": [],
   "source": [
    "# finding A*A_{T}"
   ]
  },
  {
   "cell_type": "code",
   "execution_count": 6,
   "metadata": {
    "collapsed": true
   },
   "outputs": [],
   "source": [
    "AA_t = np.matmul(A, A.T)"
   ]
  },
  {
   "cell_type": "code",
   "execution_count": 8,
   "metadata": {},
   "outputs": [
    {
     "name": "stdout",
     "output_type": "stream",
     "text": [
      "[[ 1.15042208  1.26894005  0.58256071]\n",
      " [ 1.26894005  1.65941685  0.53947974]\n",
      " [ 0.58256071  0.53947974  0.40655137]]\n"
     ]
    }
   ],
   "source": [
    "print AA_t"
   ]
  },
  {
   "cell_type": "code",
   "execution_count": 9,
   "metadata": {},
   "outputs": [
    {
     "name": "stdout",
     "output_type": "stream",
     "text": [
      "(3L, 3L)\n"
     ]
    }
   ],
   "source": [
    "print AA_t.shape"
   ]
  },
  {
   "cell_type": "code",
   "execution_count": 14,
   "metadata": {
    "collapsed": true
   },
   "outputs": [],
   "source": [
    "# finding U through computing Eigen vector of AA_t"
   ]
  },
  {
   "cell_type": "code",
   "execution_count": 15,
   "metadata": {
    "collapsed": true
   },
   "outputs": [],
   "source": [
    "from numpy.linalg import eig"
   ]
  },
  {
   "cell_type": "code",
   "execution_count": 16,
   "metadata": {
    "collapsed": true
   },
   "outputs": [],
   "source": [
    "sig_U, U = eig(AA_t) "
   ]
  },
  {
   "cell_type": "code",
   "execution_count": 17,
   "metadata": {},
   "outputs": [
    {
     "name": "stdout",
     "output_type": "stream",
     "text": [
      "[ 2.94337779  0.02943855  0.24357396]\n"
     ]
    }
   ],
   "source": [
    "print sig_U"
   ]
  },
  {
   "cell_type": "code",
   "execution_count": 18,
   "metadata": {},
   "outputs": [
    {
     "name": "stdout",
     "output_type": "stream",
     "text": [
      "[[-0.61403062 -0.72019736  0.32292748]\n",
      " [-0.73145093  0.36550649 -0.57566009]\n",
      " [-0.29655678  0.58967853  0.75122121]]\n"
     ]
    }
   ],
   "source": [
    "print U"
   ]
  },
  {
   "cell_type": "code",
   "execution_count": 19,
   "metadata": {},
   "outputs": [
    {
     "name": "stdout",
     "output_type": "stream",
     "text": [
      "(3L, 3L)\n"
     ]
    }
   ],
   "source": [
    "print U.shape"
   ]
  },
  {
   "cell_type": "code",
   "execution_count": 10,
   "metadata": {
    "collapsed": true
   },
   "outputs": [],
   "source": [
    "# finding A_{T}*A"
   ]
  },
  {
   "cell_type": "code",
   "execution_count": 11,
   "metadata": {
    "collapsed": true
   },
   "outputs": [],
   "source": [
    "A_tA = np.matmul(A.T,A)"
   ]
  },
  {
   "cell_type": "code",
   "execution_count": 12,
   "metadata": {},
   "outputs": [
    {
     "name": "stdout",
     "output_type": "stream",
     "text": [
      "[[ 1.10338147  1.21307577  0.27390839  0.4899316 ]\n",
      " [ 1.21307577  1.49912796  0.33173453  0.7488684 ]\n",
      " [ 0.27390839  0.33173453  0.10128983  0.18827728]\n",
      " [ 0.4899316   0.7488684   0.18827728  0.51259105]]\n"
     ]
    }
   ],
   "source": [
    "print A_tA"
   ]
  },
  {
   "cell_type": "code",
   "execution_count": 13,
   "metadata": {},
   "outputs": [
    {
     "name": "stdout",
     "output_type": "stream",
     "text": [
      "(4L, 4L)\n"
     ]
    }
   ],
   "source": [
    "print A_tA.shape"
   ]
  },
  {
   "cell_type": "code",
   "execution_count": 20,
   "metadata": {
    "collapsed": true
   },
   "outputs": [],
   "source": [
    "# finding V through computing Eigen vector of A_tA"
   ]
  },
  {
   "cell_type": "code",
   "execution_count": 21,
   "metadata": {
    "collapsed": true
   },
   "outputs": [],
   "source": [
    "sig_V, V = eig(A_tA) "
   ]
  },
  {
   "cell_type": "code",
   "execution_count": 22,
   "metadata": {},
   "outputs": [
    {
     "name": "stdout",
     "output_type": "stream",
     "text": [
      "[  2.94337779e+00   2.43573956e-01   2.69494879e-16   2.94385504e-02]\n"
     ]
    }
   ],
   "source": [
    "print sig_V"
   ]
  },
  {
   "cell_type": "code",
   "execution_count": 23,
   "metadata": {},
   "outputs": [
    {
     "name": "stdout",
     "output_type": "stream",
     "text": [
      "[[ 0.58673377  0.60280349 -0.48799584  0.23287654]\n",
      " [ 0.71177689 -0.08888163  0.53036265 -0.45187296]\n",
      " [ 0.16282317 -0.08933629  0.49145704  0.85086874]\n",
      " [ 0.35015105 -0.78787501 -0.48892278  0.13267148]]\n"
     ]
    }
   ],
   "source": [
    "print V"
   ]
  },
  {
   "cell_type": "code",
   "execution_count": 24,
   "metadata": {},
   "outputs": [
    {
     "name": "stdout",
     "output_type": "stream",
     "text": [
      "(4L, 4L)\n"
     ]
    }
   ],
   "source": [
    "print V.shape"
   ]
  },
  {
   "cell_type": "markdown",
   "metadata": {},
   "source": [
    "# finding U, V and Singular Values of a matrix using numpy"
   ]
  },
  {
   "cell_type": "code",
   "execution_count": 25,
   "metadata": {
    "collapsed": true
   },
   "outputs": [],
   "source": [
    "from numpy.linalg import svd"
   ]
  },
  {
   "cell_type": "code",
   "execution_count": 40,
   "metadata": {},
   "outputs": [],
   "source": [
    "U_np, sig_np, V_np = np.linalg.svd(A, full_matrices=True)"
   ]
  },
  {
   "cell_type": "code",
   "execution_count": 28,
   "metadata": {},
   "outputs": [
    {
     "name": "stdout",
     "output_type": "stream",
     "text": [
      "[[-0.61403062  0.32292748  0.72019736]\n",
      " [-0.73145093 -0.57566009 -0.36550649]\n",
      " [-0.29655678  0.75122121 -0.58967853]]\n"
     ]
    }
   ],
   "source": [
    "print U_np"
   ]
  },
  {
   "cell_type": "code",
   "execution_count": 29,
   "metadata": {},
   "outputs": [
    {
     "name": "stdout",
     "output_type": "stream",
     "text": [
      "(3L, 3L)\n"
     ]
    }
   ],
   "source": [
    "print U_np.shape"
   ]
  },
  {
   "cell_type": "code",
   "execution_count": 32,
   "metadata": {},
   "outputs": [
    {
     "name": "stdout",
     "output_type": "stream",
     "text": [
      "[[-0.61403062 -0.72019736  0.32292748]\n",
      " [-0.73145093  0.36550649 -0.57566009]\n",
      " [-0.29655678  0.58967853  0.75122121]]\n"
     ]
    }
   ],
   "source": [
    "print U # U found manually"
   ]
  },
  {
   "cell_type": "code",
   "execution_count": 42,
   "metadata": {},
   "outputs": [
    {
     "name": "stdout",
     "output_type": "stream",
     "text": [
      "[ 1.71562752  0.17157666  0.49353212]\n"
     ]
    }
   ],
   "source": [
    "print np.sqrt(sig_U)"
   ]
  },
  {
   "cell_type": "code",
   "execution_count": 43,
   "metadata": {},
   "outputs": [
    {
     "name": "stdout",
     "output_type": "stream",
     "text": [
      "[[-0.58673377 -0.71177689 -0.16282317 -0.35015105]\n",
      " [-0.60280349  0.08888163  0.08933629  0.78787501]\n",
      " [ 0.23287654 -0.45187296  0.85086874  0.13267148]\n",
      " [-0.48799584  0.53036265  0.49145704 -0.48892278]]\n"
     ]
    }
   ],
   "source": [
    "print V_np"
   ]
  },
  {
   "cell_type": "code",
   "execution_count": 45,
   "metadata": {},
   "outputs": [
    {
     "name": "stdout",
     "output_type": "stream",
     "text": [
      "(4L, 4L)\n"
     ]
    }
   ],
   "source": [
    "print V_np.shape"
   ]
  },
  {
   "cell_type": "code",
   "execution_count": 46,
   "metadata": {},
   "outputs": [
    {
     "name": "stdout",
     "output_type": "stream",
     "text": [
      "[[ 0.58673377  0.60280349 -0.48799584  0.23287654]\n",
      " [ 0.71177689 -0.08888163  0.53036265 -0.45187296]\n",
      " [ 0.16282317 -0.08933629  0.49145704  0.85086874]\n",
      " [ 0.35015105 -0.78787501 -0.48892278  0.13267148]]\n"
     ]
    }
   ],
   "source": [
    "print V"
   ]
  },
  {
   "cell_type": "code",
   "execution_count": 47,
   "metadata": {},
   "outputs": [
    {
     "name": "stdout",
     "output_type": "stream",
     "text": [
      "[ 1.71562752  0.49353212  0.17157666]\n"
     ]
    }
   ],
   "source": [
    "print sig_np"
   ]
  },
  {
   "cell_type": "code",
   "execution_count": 48,
   "metadata": {},
   "outputs": [
    {
     "name": "stdout",
     "output_type": "stream",
     "text": [
      "[  1.71562752e+00   4.93532122e-01   1.64162992e-08   1.71576661e-01]\n"
     ]
    }
   ],
   "source": [
    "print np.sqrt(sig_V)"
   ]
  }
 ],
 "metadata": {
  "kernelspec": {
   "display_name": "Python 2",
   "language": "python",
   "name": "python2"
  },
  "language_info": {
   "codemirror_mode": {
    "name": "ipython",
    "version": 2
   },
   "file_extension": ".py",
   "mimetype": "text/x-python",
   "name": "python",
   "nbconvert_exporter": "python",
   "pygments_lexer": "ipython2",
   "version": "2.7.13"
  }
 },
 "nbformat": 4,
 "nbformat_minor": 2
}
